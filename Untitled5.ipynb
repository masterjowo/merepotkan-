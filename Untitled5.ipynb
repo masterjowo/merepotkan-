{
 "cells": [
  {
   "cell_type": "code",
   "execution_count": 2,
   "id": "a9384679-6e96-4f49-a670-2f8fe32d3036",
   "metadata": {},
   "outputs": [
    {
     "name": "stdout",
     "output_type": "stream",
     "text": [
      "ramdhani bekasi\n",
      "terserah elu Fitra Ramdhani\n"
     ]
    }
   ],
   "source": [
    "print(\"ramdhani bekasi\")\n",
    "print(\"terserah elu Fitra Ramdhani\")"
   ]
  },
  {
   "cell_type": "code",
   "execution_count": null,
   "id": "b57000f5-2cd9-4c16-9b73-259d919bd0b5",
   "metadata": {},
   "outputs": [],
   "source": []
  }
 ],
 "metadata": {
  "kernelspec": {
   "display_name": "Python 3 (ipykernel)",
   "language": "python",
   "name": "python3"
  },
  "language_info": {
   "codemirror_mode": {
    "name": "ipython",
    "version": 3
   },
   "file_extension": ".py",
   "mimetype": "text/x-python",
   "name": "python",
   "nbconvert_exporter": "python",
   "pygments_lexer": "ipython3",
   "version": "3.9.9"
  }
 },
 "nbformat": 4,
 "nbformat_minor": 5
}
